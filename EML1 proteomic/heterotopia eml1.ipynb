{
 "cells": [
  {
   "cell_type": "code",
   "execution_count": null,
   "id": "2c2a1140-0ae8-4ed6-8a97-3876fcb9a43f",
   "metadata": {},
   "outputs": [],
   "source": [
    "! pip install OmicsIntegrator --no-deps\n",
    "! pip install pandas==1.3.5 axial pcst_fast\n"
   ]
  },
  {
   "cell_type": "code",
   "execution_count": 197,
   "id": "261f8d0a-ba81-4508-a8bb-e01b1f186fb8",
   "metadata": {
    "id": "B_1bZgBa5FiX"
   },
   "outputs": [],
   "source": [
    "%matplotlib inline\n",
    "import numpy as np\n",
    "import pandas as pd\n",
    "import networkx as nx\n",
    "from matplotlib import pyplot as plt\n",
    "\n",
    "import OmicsIntegrator as oi\n"
   ]
  },
  {
   "cell_type": "code",
   "execution_count": 198,
   "id": "3bafb6a6-345a-4467-acd5-31588e4e57e2",
   "metadata": {
    "id": "HqBJm4h55t0X"
   },
   "outputs": [],
   "source": [
    "interactome_file = \"inputs/mippie_ppi_v1_0.tsv\"\n",
    "prize_file = \"inputs/prize.txt\"\n",
    "proteins_file = \"inputs/mippie_proteins_v1_0.tsv\"\n",
    "tf_receptor_classification = \"inputs/tf_rec_annotations.tsv\"\n",
    "\n",
    "interactome = pd.read_csv(interactome_file, delimiter = '\\t')\n",
    "prize = pd.read_csv(prize_file)\n",
    "proteins = pd.read_csv(proteins_file, delimiter = '\\t')\n",
    "del proteins['mgi']\n",
    "tf_receptor_classification = pd.read_csv(tf_receptor_classification, delimiter = '\\t')\n",
    "\n",
    "\n",
    "interactome = interactome[['entrezA', 'entrezB', 'MIPPIE_score']].rename(columns={'entrezA': 'protein1_entrez', 'entrezB': 'protein2_entrez'})\n",
    "interactome['cost'] = 1.5 - interactome['MIPPIE_score']\n",
    "del interactome['MIPPIE_score']\n",
    "\n",
    "interactome = interactome.merge(proteins, how = 'left', left_on = 'protein1_entrez' , right_on = 'entrez').rename(columns={'entrez': 'del1_entrez', \n",
    "                                                                                                                           'official_symbol': 'protein1', \n",
    "                                                                                                                           'uniprot_accession': 'protein1_accession'})\n",
    "\n",
    "interactome = interactome.merge(proteins, how = 'left', left_on = 'protein2_entrez' , right_on = 'entrez').rename(columns={'entrez': 'del2_entrez', \n",
    "                                                                                                                           'official_symbol': 'protein2', \n",
    "                                                                                                                           'uniprot_accession': 'protein2_accession'})\n",
    "\n",
    "interactome = interactome.merge(tf_receptor_classification, how = 'left', left_on = 'protein1_entrez' , right_on = 'entrez').rename(columns={'entrez': 'del1_entrez', \n",
    "                                                                                                                           'tfa': 'tfa1', 'rec': 'rec1'})\n",
    "interactome = interactome.merge(tf_receptor_classification, how = 'left', left_on = 'protein2_entrez' , right_on = 'entrez').rename(columns={'entrez': 'del2_entrez', \n",
    "                                                                                                                           'tfa': 'tfa2', 'rec': 'rec2'})\n",
    "\n",
    "interactome = interactome.drop(columns = ['del1_entrez','del2_entrez'])\n",
    "\n",
    "\n",
    "interactome['protein1'] = interactome['protein1'].replace('CYTB', 'Mt-Cyb')\n",
    "interactome['protein2'] = interactome['protein2'].replace('CYTB', 'Mt-Cyb')\n",
    "\n",
    "interactome['protein1'] = interactome['protein1'].replace('2610301B20Rik','Cfap418')\n",
    "interactome['protein2'] = interactome['protein2'].replace('2610301B20Rik','Cfap418')\n",
    "\n",
    "# removing self edges\n",
    "interactome = interactome[interactome['protein2']!= interactome['protein1']]\n",
    "\n",
    "\n",
    "# removing 3 hubs with more than 1000 interactions (didnt apply the hub removal, since it make us lose 4 terminal proteins from interactome)\n",
    "'''\n",
    "interactome = interactome[interactome['protein1']!= 'Ywhae'] #3920 interactions\n",
    "interactome = interactome[interactome['protein2']!= 'Ywhae']\n",
    "\n",
    "interactome = interactome[interactome['protein1']!= 'Fancd2']# 1682 interactions\n",
    "interactome = interactome[interactome['protein2']!= 'Fancd2']\n",
    "interactome = interactome[interactome['protein1']!= 'Eed'] # 1193 interactions\n",
    "interactome = interactome[interactome['protein2']!= 'Eed']\n",
    "'''\n",
    "\n",
    "\n",
    "interactome_file = 'interactome.tsv'\n",
    "\n",
    "interactome = interactome[['protein1','protein2','cost']]\n",
    "interactome.to_csv(interactome_file, sep = '\\t',index = False)\n",
    "\n",
    "\n"
   ]
  },
  {
   "cell_type": "markdown",
   "id": "99ab75b9-0866-4fe2-9ae3-23c25b16d293",
   "metadata": {},
   "source": [
    "# Network building"
   ]
  },
  {
   "cell_type": "code",
   "execution_count": 199,
   "id": "bdc25837-74ef-4923-a4f2-85bc33f7b435",
   "metadata": {
    "id": "HqBJm4h55t0X"
   },
   "outputs": [
    {
     "name": "stderr",
     "output_type": "stream",
     "text": [
      "01:04:19 - OI2: INFO - Duplicated gene symbols in the prize file (we'll keep the max prize):\n",
      "01:04:19 - OI2: INFO - []\n",
      "01:04:19 - OI2: INFO - Members of the prize file not present in the interactome:\n",
      "01:04:19 - OI2: INFO - ['Clk4', 'Custos', 'Cyp20a1', 'Dars2', 'LRWD1', 'Lin9', 'Lrrc45', 'Neurod6', 'Prxl2b', 'Rbms2', 'Recql4', 'Retreg3', 'Sox13', 'Suco', 'Surf2', 'Tamm41', 'Tceal3', 'Znf131', 'Znf148', 'Znf593']\n"
     ]
    }
   ],
   "source": [
    "params = {\n",
    "    \"noise\": 0.1, \n",
    "    \"dummy_mode\": \"terminals\", \n",
    "    \"exclude_terminals\": False, \n",
    "    \"seed\": 1\n",
    "}\n",
    "\n",
    "graph = oi.Graph(interactome_file, params)\n",
    "graph.prepare_prizes(prize_file)\n"
   ]
  },
  {
   "cell_type": "markdown",
   "id": "4ecdc4ab-900f-4ab3-a9b8-bb2545eb9e2d",
   "metadata": {},
   "source": [
    "# Grid search"
   ]
  },
  {
   "cell_type": "code",
   "execution_count": 200,
   "id": "c7442fb8-d817-4738-bfff-804963a9be41",
   "metadata": {
    "colab": {
     "base_uri": "https://localhost:8080/"
    },
    "id": "zQVDdcjs6aP-",
    "outputId": "104f7366-9329-4405-a729-0f43daeca63c"
   },
   "outputs": [
    {
     "name": "stderr",
     "output_type": "stream",
     "text": [
      "01:04:27 - OI2: INFO - Duplicated gene symbols in the prize file (we'll keep the max prize):\n",
      "01:04:27 - OI2: INFO - []\n",
      "01:04:27 - OI2: INFO - Members of the prize file not present in the interactome:\n",
      "01:04:27 - OI2: INFO - ['Clk4', 'Custos', 'Cyp20a1', 'Dars2', 'LRWD1', 'Lin9', 'Lrrc45', 'Neurod6', 'Prxl2b', 'Rbms2', 'Recql4', 'Retreg3', 'Sox13', 'Suco', 'Surf2', 'Tamm41', 'Tceal3', 'Znf131', 'Znf148', 'Znf593']\n",
      "01:04:31 - OI2: INFO - Single PCSF run for W_2.00_B_6.00_G_6.00\n",
      "01:04:31 - OI2: INFO - Single PCSF run for W_2.00_B_2.00_G_2.00\n",
      "01:04:31 - OI2: INFO - Single PCSF run for W_2.00_B_4.00_G_4.00\n",
      "01:04:31 - OI2: INFO - Single PCSF run for W_3.00_B_2.00_G_4.00\n",
      "01:04:31 - OI2: INFO - Single PCSF run for W_2.00_B_2.00_G_5.00\n",
      "01:04:31 - OI2: INFO - Single PCSF run for W_2.00_B_3.00_G_6.00\n",
      "01:04:31 - OI2: INFO - Single PCSF run for W_3.00_B_3.00_G_2.00\n",
      "01:04:31 - OI2: INFO - Single PCSF run for W_3.00_B_3.00_G_5.00\n",
      "01:04:31 - OI2: INFO - Single PCSF run for W_2.00_B_3.00_G_3.00\n",
      "01:04:31 - OI2: INFO - Single PCSF run for W_2.00_B_6.00_G_3.00\n",
      "01:04:31 - OI2: INFO - Single PCSF run for W_2.00_B_5.00_G_5.00\n",
      "01:04:31 - OI2: INFO - Single PCSF run for W_2.00_B_5.00_G_2.00\n",
      "01:04:31 - OI2: INFO - Single PCSF run for W_3.00_B_2.00_G_2.00\n",
      "01:04:31 - OI2: INFO - Single PCSF run for W_2.00_B_4.00_G_2.00\n",
      "01:04:31 - OI2: INFO - Single PCSF run for W_2.00_B_2.00_G_6.00\n",
      "01:04:31 - OI2: INFO - Single PCSF run for W_2.00_B_5.00_G_6.00\n",
      "01:04:31 - OI2: INFO - Single PCSF run for W_3.00_B_3.00_G_6.00\n",
      "01:04:31 - OI2: INFO - Single PCSF run for W_2.00_B_2.00_G_3.00\n",
      "01:04:31 - OI2: INFO - Single PCSF run for W_2.00_B_4.00_G_5.00\n",
      "01:04:31 - OI2: INFO - Single PCSF run for W_3.00_B_2.00_G_5.00\n",
      "01:04:31 - OI2: INFO - Single PCSF run for W_2.00_B_3.00_G_4.00\n",
      "01:04:31 - OI2: INFO - Single PCSF run for W_2.00_B_6.00_G_4.00\n",
      "01:04:31 - OI2: INFO - Single PCSF run for W_2.00_B_5.00_G_3.00\n",
      "01:04:31 - OI2: INFO - Single PCSF run for W_3.00_B_3.00_G_3.00\n",
      "01:04:31 - OI2: WARNING - The resulting Forest is empty. Try different parameters.\n",
      "01:04:32 - OI2: INFO - Single PCSF run for W_2.00_B_3.00_G_2.00\n",
      "01:04:32 - OI2: INFO - Single PCSF run for W_2.00_B_6.00_G_2.00\n",
      "01:04:32 - OI2: INFO - Single PCSF run for W_3.00_B_4.00_G_2.00\n",
      "01:04:32 - OI2: INFO - Single PCSF run for W_3.00_B_2.00_G_3.00\n",
      "01:04:32 - OI2: INFO - Single PCSF run for W_3.00_B_2.00_G_6.00\n",
      "01:04:32 - OI2: INFO - Single PCSF run for W_2.00_B_4.00_G_6.00\n",
      "01:04:32 - OI2: INFO - Single PCSF run for W_2.00_B_4.00_G_3.00\n",
      "01:04:32 - OI2: INFO - Single PCSF run for W_2.00_B_2.00_G_4.00\n",
      "01:04:32 - OI2: INFO - Single PCSF run for W_2.00_B_3.00_G_5.00\n",
      "01:04:32 - OI2: INFO - Single PCSF run for W_2.00_B_6.00_G_5.00\n",
      "01:04:32 - OI2: INFO - Single PCSF run for W_2.00_B_5.00_G_4.00\n",
      "01:04:32 - OI2: INFO - Single PCSF run for W_3.00_B_3.00_G_4.00\n",
      "01:04:32 - OI2: INFO - Single PCSF run for W_3.00_B_4.00_G_3.00\n",
      "01:04:32 - OI2: INFO - Single PCSF run for W_3.00_B_4.00_G_6.00\n",
      "01:04:32 - OI2: INFO - Single PCSF run for W_3.00_B_5.00_G_4.00\n",
      "01:04:32 - OI2: INFO - Single PCSF run for W_3.00_B_6.00_G_2.00\n",
      "01:04:32 - OI2: INFO - Single PCSF run for W_3.00_B_6.00_G_5.00\n",
      "01:04:32 - OI2: INFO - Single PCSF run for W_3.00_B_5.00_G_2.00\n",
      "01:04:32 - OI2: INFO - Single PCSF run for W_3.00_B_4.00_G_4.00\n",
      "01:04:32 - OI2: INFO - Single PCSF run for W_4.00_B_2.00_G_3.00\n",
      "01:04:32 - OI2: INFO - Single PCSF run for W_4.00_B_2.00_G_6.00\n",
      "01:04:32 - OI2: INFO - Single PCSF run for W_4.00_B_3.00_G_4.00\n",
      "01:04:33 - OI2: INFO - Single PCSF run for W_3.00_B_5.00_G_5.00\n",
      "01:04:33 - OI2: INFO - Single PCSF run for W_4.00_B_4.00_G_2.00\n",
      "01:04:33 - OI2: INFO - Single PCSF run for W_3.00_B_6.00_G_6.00\n",
      "01:04:33 - OI2: INFO - Single PCSF run for W_3.00_B_6.00_G_3.00\n",
      "01:04:33 - OI2: INFO - Single PCSF run for W_4.00_B_4.00_G_5.00\n",
      "01:04:33 - OI2: INFO - Single PCSF run for W_3.00_B_5.00_G_3.00\n",
      "01:04:33 - OI2: INFO - Single PCSF run for W_4.00_B_3.00_G_2.00\n",
      "01:04:33 - OI2: INFO - Single PCSF run for W_3.00_B_4.00_G_5.00\n",
      "01:04:33 - OI2: INFO - Single PCSF run for W_4.00_B_2.00_G_4.00\n",
      "01:04:33 - OI2: INFO - Single PCSF run for W_4.00_B_5.00_G_3.00\n",
      "01:04:33 - OI2: INFO - Single PCSF run for W_4.00_B_5.00_G_6.00\n",
      "01:04:33 - OI2: INFO - Single PCSF run for W_3.00_B_5.00_G_6.00\n",
      "01:04:33 - OI2: INFO - Single PCSF run for W_4.00_B_2.00_G_2.00\n",
      "01:04:33 - OI2: INFO - Single PCSF run for W_4.00_B_3.00_G_5.00\n",
      "01:04:33 - OI2: INFO - Single PCSF run for W_4.00_B_4.00_G_6.00\n",
      "01:04:33 - OI2: INFO - Single PCSF run for W_4.00_B_4.00_G_3.00\n",
      "01:04:33 - OI2: INFO - Single PCSF run for W_3.00_B_6.00_G_4.00\n",
      "01:04:33 - OI2: INFO - Single PCSF run for W_4.00_B_6.00_G_2.00\n",
      "01:04:33 - OI2: INFO - Single PCSF run for W_4.00_B_3.00_G_3.00\n",
      "01:04:33 - OI2: INFO - Single PCSF run for W_4.00_B_6.00_G_4.00\n",
      "01:04:33 - OI2: INFO - Single PCSF run for W_4.00_B_2.00_G_5.00\n",
      "01:04:33 - OI2: WARNING - The resulting Forest is empty. Try different parameters.\n",
      "01:04:33 - OI2: INFO - Single PCSF run for W_5.00_B_2.00_G_2.00\n",
      "01:04:33 - OI2: INFO - Single PCSF run for W_4.00_B_3.00_G_6.00\n",
      "01:04:33 - OI2: INFO - Single PCSF run for W_4.00_B_5.00_G_4.00\n",
      "01:04:33 - OI2: INFO - Single PCSF run for W_4.00_B_5.00_G_2.00\n",
      "01:04:34 - OI2: INFO - Single PCSF run for W_5.00_B_2.00_G_5.00\n",
      "01:04:34 - OI2: INFO - Single PCSF run for W_5.00_B_3.00_G_3.00\n",
      "01:04:34 - OI2: WARNING - The resulting Forest is empty. Try different parameters.\n",
      "01:04:34 - OI2: INFO - Single PCSF run for W_4.00_B_4.00_G_4.00\n",
      "01:04:34 - OI2: INFO - Single PCSF run for W_4.00_B_6.00_G_3.00\n",
      "01:04:34 - OI2: INFO - Single PCSF run for W_4.00_B_6.00_G_5.00\n",
      "01:04:34 - OI2: INFO - Single PCSF run for W_5.00_B_3.00_G_6.00\n",
      "01:04:34 - OI2: INFO - Single PCSF run for W_5.00_B_4.00_G_4.00\n",
      "01:04:34 - OI2: INFO - Single PCSF run for W_5.00_B_2.00_G_6.00\n",
      "01:04:34 - OI2: INFO - Single PCSF run for W_5.00_B_2.00_G_3.00\n",
      "01:04:34 - OI2: WARNING - The resulting Forest is empty. Try different parameters.\n",
      "01:04:34 - OI2: INFO - Single PCSF run for W_4.00_B_5.00_G_5.00\n",
      "01:04:34 - OI2: INFO - Single PCSF run for W_5.00_B_5.00_G_2.00\n",
      "01:04:34 - OI2: INFO - Single PCSF run for W_5.00_B_3.00_G_4.00\n",
      "01:04:34 - OI2: INFO - Single PCSF run for W_5.00_B_5.00_G_5.00\n",
      "01:04:34 - OI2: INFO - Single PCSF run for W_5.00_B_3.00_G_2.00\n",
      "01:04:34 - OI2: INFO - Single PCSF run for W_5.00_B_6.00_G_3.00\n",
      "01:04:34 - OI2: INFO - Single PCSF run for W_5.00_B_4.00_G_2.00\n",
      "01:04:34 - OI2: INFO - Single PCSF run for W_4.00_B_6.00_G_6.00\n",
      "01:04:34 - OI2: INFO - Single PCSF run for W_5.00_B_6.00_G_6.00\n",
      "01:04:34 - OI2: INFO - Single PCSF run for W_5.00_B_2.00_G_4.00\n",
      "01:04:34 - OI2: INFO - Single PCSF run for W_5.00_B_4.00_G_5.00\n",
      "01:04:34 - OI2: INFO - Single PCSF run for W_5.00_B_5.00_G_3.00\n",
      "01:04:34 - OI2: INFO - Single PCSF run for W_5.00_B_3.00_G_5.00\n",
      "01:04:34 - OI2: INFO - Single PCSF run for W_5.00_B_5.00_G_6.00\n",
      "01:04:34 - OI2: WARNING - The resulting Forest is empty. Try different parameters.\n",
      "01:04:34 - OI2: INFO - Single PCSF run for W_5.00_B_4.00_G_3.00\n",
      "01:04:35 - OI2: INFO - Single PCSF run for W_5.00_B_6.00_G_4.00\n",
      "01:04:35 - OI2: INFO - Single PCSF run for W_5.00_B_6.00_G_2.00\n",
      "01:04:35 - OI2: INFO - Single PCSF run for W_5.00_B_4.00_G_6.00\n",
      "01:04:35 - OI2: WARNING - The resulting Forest is empty. Try different parameters.\n",
      "01:04:35 - OI2: INFO - Single PCSF run for W_5.00_B_5.00_G_4.00\n",
      "01:04:35 - OI2: INFO - Single PCSF run for W_5.00_B_6.00_G_5.00\n"
     ]
    }
   ],
   "source": [
    "Ws = list(np.arange(2,6,1))\n",
    "Bs = list(np.arange(2,7,1))\n",
    "Gs = list(np.arange(2,7,1))\n",
    "\n",
    "# Or:\n",
    "\n",
    "#Ws = [2,3]\n",
    "#Bs = [4,5,6]\n",
    "#Gs = [3,4,5]\n",
    "\n",
    "params = {\n",
    "    \"noise\": 0.1, \n",
    "    \"dummy_mode\": \"terminals\", \n",
    "    \"exclude_terminals\": False, \n",
    "    \"seed\": 1\n",
    "}\n",
    "\n",
    "\n",
    "results = graph.grid_search(prize_file, Ws, Bs, Gs)\n",
    "membership_df = oi.summarize_grid_search(results, \"membership\")\n",
    "\n",
    "\n",
    "\n",
    "prize = pd.read_csv(prize_file,sep=\"\\t\")\n",
    "initial_nodes=list(prize.name)          \n",
    "results_with_terminals = membership_df[membership_df.index.isin(initial_nodes)]\n",
    "Initial_node_covers = results_with_terminals.sum().sort_values(ascending=False).to_frame(name=\"Covering_nodes\")\n",
    "\n",
    "\n",
    "out = set(Initial_node_covers[Initial_node_covers[\"Covering_nodes\"]==max(Initial_node_covers[\"Covering_nodes\"])].index)\n",
    "\n",
    "Initial_node_covers.sort_index(axis=0, inplace=True)\n",
    "membership_df.sort_index(axis=1, inplace=True)\n",
    "Total_node = membership_df.sum().to_frame(name=\"Total_nodes\")\n",
    "\n",
    "membership_df.loc['Covering nodes']=(Initial_node_covers['Covering_nodes'])\n",
    "membership_df.loc['Total_nodes']=(Total_node['Total_nodes'])\n",
    "membership_df.to_csv('membership_df_with_node_numbers.csv')"
   ]
  },
  {
   "cell_type": "code",
   "execution_count": 208,
   "id": "4b541c54-ced7-4c0f-986e-77c7a5165f61",
   "metadata": {},
   "outputs": [],
   "source": [
    "# tuned parameters:\n",
    "\n",
    "w = 2\n",
    "b = 6\n",
    "g = 2\n",
    "\n",
    "\n",
    "# Among 66 DEGs 20 were not present in the interactome making 46 terminal nodes from total 85 nodes.\n",
    "# So the resulting output network with these parameters have 46 terminal proteins and 39 steiners making a 85 node connected network with 6 louvain clusters."
   ]
  },
  {
   "cell_type": "code",
   "execution_count": 209,
   "id": "51805d3b-cb37-4ef6-823a-ebba4c1de38f",
   "metadata": {
    "id": "mybp10hUTZ1L"
   },
   "outputs": [
    {
     "name": "stderr",
     "output_type": "stream",
     "text": [
      "01:09:49 - OI2: INFO - Duplicated gene symbols in the prize file (we'll keep the max prize):\n",
      "01:09:49 - OI2: INFO - []\n",
      "01:09:49 - OI2: INFO - Members of the prize file not present in the interactome:\n",
      "01:09:49 - OI2: INFO - ['Clk4', 'Custos', 'Cyp20a1', 'Dars2', 'LRWD1', 'Lin9', 'Lrrc45', 'Neurod6', 'Prxl2b', 'Rbms2', 'Recql4', 'Retreg3', 'Sox13', 'Suco', 'Surf2', 'Tamm41', 'Tceal3', 'Znf131', 'Znf148', 'Znf593']\n"
     ]
    },
    {
     "name": "stdout",
     "output_type": "stream",
     "text": [
      "85\n",
      "342.7509068248637\n"
     ]
    },
    {
     "data": {
      "text/plain": [
       "PosixPath('/Users/sina/Library/CloudStorage/OneDrive-KocUniversitesi/Nozlulab/Heterotopia/Netwrok analysis/pcsf_results262.html')"
      ]
     },
     "execution_count": 209,
     "metadata": {},
     "output_type": "execute_result"
    }
   ],
   "source": [
    "graph = oi.Graph(interactome_file, {'w':w, 'b':b, 'g':g,})\n",
    "graph.prepare_prizes(prize_file)\n",
    "vertex_indices, edge_indices = graph.pcsf()\n",
    "\n",
    "print(len(vertex_indices))\n",
    "\n",
    "forest, augmented_forest = graph.output_forest_as_networkx(vertex_indices, edge_indices)\n",
    "\n",
    "\n",
    "# the part specific for mouse subcellular localization data\n",
    "annotation = pd.read_pickle('inputs/Subcellular location from Jensen Lab/subcellular_location.pickle')\n",
    "annotation = annotation.reindex(augmented_forest.nodes())\n",
    "nx.set_node_attributes(augmented_forest, annotation.apply(lambda x: x.dropna().to_dict(), axis=1).to_dict())\n",
    "\n",
    "\n",
    "\n",
    "print(graph.pcsf_objective_value(augmented_forest))\n",
    "\n",
    "# removing self loops\n",
    "augmented_forest.remove_edges_from(nx.selfloop_edges(augmented_forest))\n",
    "forest.remove_edges_from(nx.selfloop_edges(forest))\n",
    "\n",
    "oi.get_networkx_graph_as_dataframe_of_edges(augmented_forest).to_csv('edges.txt', sep='\\t', header=True, index=False)\n",
    "oi.get_networkx_graph_as_dataframe_of_nodes(augmented_forest).to_csv('nodes.txt', sep='\\t', header=True, index=True)\n",
    "oi.output_networkx_graph_as_interactive_html(augmented_forest, output_dir='', filename='pcsf_results262.html')"
   ]
  },
  {
   "cell_type": "code",
   "execution_count": 210,
   "id": "784d00f5-7521-4abe-baf9-ca6d5bb6d35b",
   "metadata": {},
   "outputs": [
    {
     "data": {
      "text/html": [
       "<div>\n",
       "<style scoped>\n",
       "    .dataframe tbody tr th:only-of-type {\n",
       "        vertical-align: middle;\n",
       "    }\n",
       "\n",
       "    .dataframe tbody tr th {\n",
       "        vertical-align: top;\n",
       "    }\n",
       "\n",
       "    .dataframe thead th {\n",
       "        text-align: right;\n",
       "    }\n",
       "</style>\n",
       "<table border=\"1\" class=\"dataframe\">\n",
       "  <thead>\n",
       "    <tr style=\"text-align: right;\">\n",
       "      <th></th>\n",
       "      <th>location</th>\n",
       "    </tr>\n",
       "    <tr>\n",
       "      <th>GeneSymbol</th>\n",
       "      <th></th>\n",
       "    </tr>\n",
       "  </thead>\n",
       "  <tbody>\n",
       "    <tr>\n",
       "      <th>Adgrl3</th>\n",
       "      <td>NaN</td>\n",
       "    </tr>\n",
       "    <tr>\n",
       "      <th>Mt-Cyb</th>\n",
       "      <td>NaN</td>\n",
       "    </tr>\n",
       "    <tr>\n",
       "      <th>Nectin1</th>\n",
       "      <td>NaN</td>\n",
       "    </tr>\n",
       "  </tbody>\n",
       "</table>\n",
       "</div>"
      ],
      "text/plain": [
       "           location\n",
       "GeneSymbol         \n",
       "Adgrl3          NaN\n",
       "Mt-Cyb          NaN\n",
       "Nectin1         NaN"
      ]
     },
     "execution_count": 210,
     "metadata": {},
     "output_type": "execute_result"
    }
   ],
   "source": [
    "annotation[annotation['location'].isna()]"
   ]
  },
  {
   "cell_type": "code",
   "execution_count": null,
   "id": "c41e724f-60a8-4975-bc42-ee4336f86886",
   "metadata": {},
   "outputs": [],
   "source": []
  }
 ],
 "metadata": {
  "kernelspec": {
   "display_name": "virtual1",
   "language": "python",
   "name": "virtual1"
  },
  "language_info": {
   "codemirror_mode": {
    "name": "ipython",
    "version": 3
   },
   "file_extension": ".py",
   "mimetype": "text/x-python",
   "name": "python",
   "nbconvert_exporter": "python",
   "pygments_lexer": "ipython3",
   "version": "3.9.12"
  }
 },
 "nbformat": 4,
 "nbformat_minor": 5
}
